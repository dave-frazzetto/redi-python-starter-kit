{
 "cells": [
  {
   "cell_type": "markdown",
   "metadata": {
    "id": "5DxJi0LGXzUu"
   },
   "source": [
    "# 1.  PYTHON BASICS"
   ]
  },
  {
   "cell_type": "markdown",
   "metadata": {
    "id": "3MRu0c2AX9bC"
   },
   "source": [
    "## 1.1 Syntax, Variables, and Data Types."
   ]
  },
  {
   "cell_type": "code",
   "execution_count": null,
   "metadata": {
    "id": "-ZBtXwe7ZY2S"
   },
   "outputs": [
    {
     "name": "stdout",
     "output_type": "stream",
     "text": [
      "Hello ReDi\n"
     ]
    }
   ],
   "source": [
    "# Write the code that prints the line \"Hello ReDi!\""
   ]
  },
  {
   "cell_type": "markdown",
   "metadata": {
    "id": "PGhpZe-8YH0h"
   },
   "source": [
    "### Variables\n",
    "\n",
    "Variables are like boxes where you can store things. You can name your box (variable) anything you want."
   ]
  },
  {
   "cell_type": "code",
   "execution_count": null,
   "metadata": {
    "id": "pb2bOlPwZy9B"
   },
   "outputs": [],
   "source": [
    "# create 3 variables: a string, a float and an integer.\n",
    "# print the values of these variables on screen"
   ]
  },
  {
   "cell_type": "markdown",
   "metadata": {
    "id": "5xJKhOr6sulk"
   },
   "source": [
    "### OPTIONAL ADVANCED EXERCISE"
   ]
  },
  {
   "cell_type": "code",
   "execution_count": null,
   "metadata": {
    "id": "gIjw-6thsUM_"
   },
   "outputs": [],
   "source": [
    "pi = 3.14\n",
    "x = 42\n",
    "\n",
    "# Use the f\"\" string formatting option in Python to print on screen a mix of text and the value of the variables pi and x"
   ]
  },
  {
   "cell_type": "markdown",
   "metadata": {
    "id": "wSanbdg3axGK"
   },
   "source": [
    "## 1.2 Functions\n",
    "\n",
    "Imagine you have a little robot. You can teach this robot to do a specific task, like singing a song. Once you've taught the robot this task, you can ask it to sing the song whenever you want. In Python, we can teach our computer to do specific tasks by creating functions"
   ]
  },
  {
   "cell_type": "code",
   "execution_count": null,
   "metadata": {
    "id": "c5WVRE6Xbmvv"
   },
   "outputs": [],
   "source": [
    "# Create a function called sing_song() that prints on screen the line \"Twinkle, twinkle, little star\"\n",
    "# Use the function to print the line on screen"
   ]
  },
  {
   "cell_type": "markdown",
   "metadata": {
    "id": "f1bnLm5qrS-H"
   },
   "source": [
    "### OPTIONAL ADVANCED EXERCISE"
   ]
  },
  {
   "cell_type": "code",
   "execution_count": null,
   "metadata": {
    "id": "O3U6n-PQrENj"
   },
   "outputs": [],
   "source": [
    "# Exercise: Math Module\n",
    "\n",
    "# 1. Import the math module\n",
    "import math\n",
    "\n",
    "# 2. Calculate the square root of 16 and print the result.\n",
    "\n",
    "# 3. Calculate the value of pi and print it.\n",
    "\n",
    "# 4. Calculate the exponential of 2 (e^2) and print the result.\n",
    "\n",
    "# 5. Calculate the logarithm (base 10) of 100 and print the result.\n",
    "\n",
    "# 6. Calculate the ceiling of 3.2 and print the result.\n",
    "\n",
    "# 7. Calculate the floor of 3.8 and print the result.\n",
    "\n",
    "# 8. Calculate the factorial of 5 and print the result.\n",
    "\n"
   ]
  },
  {
   "cell_type": "markdown",
   "metadata": {
    "id": "RvTBMUP7-cBE"
   },
   "source": [
    "## 1.4 Flow control statements\n",
    "\n",
    "if statement: a block of code is executed when a given conditions is met\n"
   ]
  },
  {
   "cell_type": "code",
   "execution_count": null,
   "metadata": {
    "id": "BPbhFJ95-cBG"
   },
   "outputs": [],
   "source": [
    "# Create a variable 'x' containing an integer value of your choice.\n",
    "# Write code that checks whether the value of 'x' is odd or even, and prints a message on screen with either 'Odd number' or 'Even number'."
   ]
  },
  {
   "cell_type": "markdown",
   "metadata": {
    "id": "jcYKPbtN-cBG"
   },
   "source": [
    "I can write if statements where multiple conditions have to be met"
   ]
  },
  {
   "cell_type": "code",
   "execution_count": null,
   "metadata": {
    "id": "BBVEdmHE-cBH"
   },
   "outputs": [],
   "source": [
    "# Create 2 variables 'x' and 'y' containing float values of your choice.\n",
    "# Write code that checks if the value of both 'x' and 'y' is greater or equal 10, and displays a message if it is True.\n"
   ]
  },
  {
   "cell_type": "markdown",
   "metadata": {
    "id": "rdbdqlWx-cBH"
   },
   "source": [
    "or where only one among several conditions has to be met"
   ]
  },
  {
   "cell_type": "code",
   "execution_count": null,
   "metadata": {
    "id": "lFUxRxPv-cBH"
   },
   "outputs": [],
   "source": [
    "# Create 2 variables 'x' and 'y' containing float values of your choice.\n",
    "# Write code that checks if the value of either 'x' or 'y' is smaller or equal 10, and displays a message if it is True."
   ]
  },
  {
   "cell_type": "markdown",
   "metadata": {
    "id": "D6wIDqRQgqSO"
   },
   "source": [
    "or an if-else statement where I can describe multiple conditions"
   ]
  },
  {
   "cell_type": "code",
   "execution_count": null,
   "metadata": {
    "id": "sGLo_2LM-cBH"
   },
   "outputs": [],
   "source": [
    "# Create a variable 'x' containing an integer of your choice.\n",
    "# Write an if-else statement that:\n",
    "# if x is smaller than 42, print the line \"Smaller than 42\"\n",
    "# if x is equal to 42, print the line \"The number is 42\"\n",
    "# if x is greater than 42, print the line \"Greater than 42\""
   ]
  },
  {
   "cell_type": "markdown",
   "metadata": {
    "id": "sURdN0BWrwb6"
   },
   "source": [
    "### OPTIONAL ADVANCED EXERCISE"
   ]
  },
  {
   "cell_type": "code",
   "execution_count": 30,
   "metadata": {
    "colab": {
     "base_uri": "https://localhost:8080/"
    },
    "executionInfo": {
     "elapsed": 2502,
     "status": "ok",
     "timestamp": 1729592142656,
     "user": {
      "displayName": "Davide",
      "userId": "13601204780732163607"
     },
     "user_tz": -120
    },
    "id": "UF9rWwPCrz4I",
    "outputId": "50e071e9-0e25-4864-af73-176081ffa65d"
   },
   "outputs": [
    {
     "name": "stdout",
     "output_type": "stream",
     "text": [
      "Enter a number: 1\n",
      "None\n"
     ]
    }
   ],
   "source": [
    "# Work with match case in Python\n",
    "\n",
    "def analyze_number(number):\n",
    "  \"\"\"Analyzes a number and provides information based on its properties.\n",
    "  # Use the match statement to check the value of the 'number' variable.\n",
    "  # Check if the number is zero.\n",
    "  # If it is, return \"The number is zero.\"\n",
    "  # Check if the number is negative.\n",
    "  # If it is, return \"The number is negative.\"\n",
    "  # Check if the number is even.\n",
    "  # If it is, return \"The number is even.\"\n",
    "  # Check if the number is odd.\n",
    "  # If it is, return \"The number is odd.\"\n",
    "  # If none of the above conditions are met, return \"The number is unknown.\"\n",
    "\n",
    "  Args:\n",
    "    number: An integer.\n",
    "\n",
    "  Returns:\n",
    "    A string describing the number's properties.\n",
    "  \"\"\"\n",
    "  # Write your code here\n",
    "\n",
    "\n",
    "# Get input from the user\n",
    "number_input = int(input(\"Enter a number: \"))\n",
    "\n",
    "# Analyze the number and print the result\n",
    "result = analyze_number(number_input)\n",
    "print(result)"
   ]
  },
  {
   "cell_type": "markdown",
   "metadata": {
    "id": "f1ma9DmiuU6N"
   },
   "source": [
    "Then take the quiz [here](https://realpython.com/quizzes/python-basics-conditional-logic-and-control-flow/https://)"
   ]
  },
  {
   "cell_type": "markdown",
   "metadata": {
    "id": "KQ6jpz4VfTl4"
   },
   "source": [
    "# 2. Data structures"
   ]
  },
  {
   "cell_type": "markdown",
   "metadata": {
    "id": "IXpnoGGCT7BS"
   },
   "source": [
    "### 2.1 Lists\n",
    "\n",
    "A list is used to store multiple items in a single variable. It's a collection which is also ordered, indexed, and which permits duplicate values. A list is written with square brackets: [ ]. Each item in the list has an index, or position within that list. In Python, we start counting from 0 rather than 1. As a result, python lists are zero-indexed."
   ]
  },
  {
   "cell_type": "code",
   "execution_count": null,
   "metadata": {
    "id": "YLyQ0vp2T7BS"
   },
   "outputs": [],
   "source": [
    "# Create a variable 't' containing a list of your 4 favorite colors\n",
    "# print the values of the list on screen\n",
    "# Then, print the value of the first element on screen"
   ]
  },
  {
   "cell_type": "markdown",
   "metadata": {
    "id": "x_am5H8BT7BS"
   },
   "source": [
    "### 2.2 Slicing\n",
    "\n",
    "If we want to access multiple items we can use slicing: my_list[a:b] gives us every item from index a (inclusive) to index b (exclusive)."
   ]
  },
  {
   "cell_type": "code",
   "execution_count": null,
   "metadata": {
    "id": "i124_PNDT7BS"
   },
   "outputs": [],
   "source": [
    "# Using the same list 't' created above, create a smaller list 'k' containing the values at the 2nd and 3rd positions.\n",
    "# Print on screen the values of this new list 'k'"
   ]
  },
  {
   "cell_type": "markdown",
   "metadata": {
    "id": "OBa_yuVdT7BS"
   },
   "source": [
    "We can get everything up to a specified index by leaving the left-hand-side of the colon blank."
   ]
  },
  {
   "cell_type": "code",
   "execution_count": null,
   "metadata": {
    "id": "Md0mJgYAT7BS"
   },
   "outputs": [],
   "source": [
    "# Using the same list 't' created above, create a smaller list 'k' containing the values up to the 3rd positions.\n",
    "# Print on screen the values of this new list 'k'"
   ]
  },
  {
   "cell_type": "markdown",
   "metadata": {
    "id": "OClFhyM_uDgq"
   },
   "source": [
    "### OPTIONAL ADVANCED EXERCISE"
   ]
  },
  {
   "cell_type": "code",
   "execution_count": 31,
   "metadata": {
    "executionInfo": {
     "elapsed": 729,
     "status": "ok",
     "timestamp": 1729592189162,
     "user": {
      "displayName": "Davide",
      "userId": "13601204780732163607"
     },
     "user_tz": -120
    },
    "id": "Ev8wRhhys2y4"
   },
   "outputs": [],
   "source": [
    "import math\n",
    "\n",
    "# Exercise: List Comprehension\n",
    "\n",
    "# 1. Create a list of squares of numbers from 1 to 10 using list comprehension. Then print the list in screen\n",
    "\n",
    "\n",
    "# Exercise: List Comprehension with Conditions\n",
    "\n",
    "# 1. Create a list of numbers from 1 to 20 that are divisible by 3 using list comprehension. Then print the values on screen\n",
    "\n",
    "\n",
    "# 2. Create a list of the squares of even numbers from 1 to 10 using list comprehension. Then print the values on screen\n"
   ]
  },
  {
   "cell_type": "markdown",
   "metadata": {
    "id": "UYVhAsS6T7BT"
   },
   "source": [
    "### 2.4 Dictionaries\n",
    "\n",
    "\n",
    "In Python, a dictionary contains a look-up key and a corresponding value. It's a collection which is ordered and mutable. It does not permit duplicate items. A dictionary is written with curly brackets: { }. The keys are strings, but the values can take any data type.\n",
    "\n",
    "The syntax is:\n",
    "\n",
    "{key1: value1, key2: value2, key3: value3}"
   ]
  },
  {
   "cell_type": "code",
   "execution_count": null,
   "metadata": {
    "id": "t5W6QsxcT7BT"
   },
   "outputs": [],
   "source": [
    "# create a variable 'd' containing a dictionary of pairs of names and surnames, where the name is the key and the surname is the value\n",
    "# Then print the dictionary on screen\n"
   ]
  },
  {
   "cell_type": "markdown",
   "metadata": {
    "id": "OyLledGoHQa3"
   },
   "source": [
    "#### Retrieving Values\n",
    "We can retrieve items from a dictionary just like we would from a list, using square brackets but passing in the key instead of the index."
   ]
  },
  {
   "cell_type": "code",
   "execution_count": null,
   "metadata": {
    "id": "_0r7QSJqHQa3"
   },
   "outputs": [],
   "source": [
    "# Using the variable 'd' created above, retrieve the surname associated to a name and print it on screen"
   ]
  },
  {
   "cell_type": "markdown",
   "metadata": {
    "id": "hDgl6ebtHQa3"
   },
   "source": [
    "#### Adding Items\n",
    "Adding items to a dictionary is very similar to retrieving them. Again, we use square bracket notation."
   ]
  },
  {
   "cell_type": "code",
   "execution_count": null,
   "metadata": {
    "id": "LLx1sMvyHQa4"
   },
   "outputs": [],
   "source": [
    "# Add the pair {\"Davide\": \"Frazzetto\"} pair to the dictionary 'd'\n",
    "# Then as above, retrieve the surname associated to the name \"Davide\"\n"
   ]
  },
  {
   "cell_type": "markdown",
   "metadata": {
    "id": "hKS7ZnIeupxm"
   },
   "source": [
    "### OPTIONAL ADVANCED EXERCISE"
   ]
  },
  {
   "cell_type": "code",
   "execution_count": null,
   "metadata": {
    "id": "GOAcZhERuo28"
   },
   "outputs": [],
   "source": [
    "# Working with json as dictionaries\n",
    "import json\n",
    "\n",
    "# Sample JSON string\n",
    "json_string = \"\"\"\n",
    "{\n",
    "  \"name\": \"John Doe\",\n",
    "  \"age\": 30,\n",
    "  \"city\": \"New York\",\n",
    "  \"occupation\": \"Software Engineer\",\n",
    "  \"skills\": [\"Python\", \"Java\", \"JavaScript\"],\n",
    "  \"address\": {\n",
    "    \"street\": \"123 Main Street\",\n",
    "    \"zipcode\": \"10001\"\n",
    "  }\n",
    "}\n",
    "\"\"\"\n",
    "\n",
    "# Load JSON string into a Python dictionary\n",
    "\n",
    "# Print the dictionary\n",
    "\n",
    "# Access city value\n",
    "# Access zipcode value\n"
   ]
  },
  {
   "cell_type": "markdown",
   "metadata": {
    "id": "jcTX8rVkiggy"
   },
   "source": [
    "# 3 Loops"
   ]
  },
  {
   "cell_type": "markdown",
   "metadata": {
    "id": "3WSY_5C9-cBJ"
   },
   "source": [
    "for loops: used to iterate through the items in a Python collection, such as lists or strings"
   ]
  },
  {
   "cell_type": "code",
   "execution_count": null,
   "metadata": {
    "id": "dFVMDZ0f-cBJ"
   },
   "outputs": [],
   "source": [
    "# Given the list 't' containing a list of 10 integers.\n",
    "# Write the code that sums all the numbers in 't' by iterating through them, and prints the total on screen\n",
    "# the result should be 45\n",
    "t = [0, 1, 2, 3, 4, 5, 6, 7, 8, 9]"
   ]
  },
  {
   "cell_type": "code",
   "execution_count": null,
   "metadata": {
    "id": "cH2PxCiz-cBJ"
   },
   "outputs": [],
   "source": [
    "# Create a variable 't' containing a list of 10 integers.\n",
    "# Write the code that sums all the EVEN numbers in 't' by iterating through them, and prints the total on screen\n",
    "# the result should be 20\n",
    "t = [0, 1, 2, 3, 4, 5, 6, 7, 8, 9]\n",
    "\n"
   ]
  },
  {
   "cell_type": "markdown",
   "metadata": {
    "id": "oKMRO5pr-cBJ"
   },
   "source": [
    "the for loop can be used to perform a series of operations a specific number of times;\n",
    "to do so a collection of numbers of the appropriate size can be generated using the  range() function\n",
    "\n",
    "range() takes in 3 arguments (int):\n",
    "1.   start\n",
    "2.   end\n",
    "3.   step\n",
    "\n",
    "if only 1 parameters is passed as input range(n) returns a numeric series starting with 0 and extending up to but not including n\n",
    "\n",
    "ex1: range(11,20,3) returns a series of integers from 11 to 20 in steps of 3\n",
    "\n",
    "ex2: range(10) returns a series of integers from 0 to 9"
   ]
  },
  {
   "cell_type": "code",
   "execution_count": null,
   "metadata": {
    "id": "UcnmRy0pmup3"
   },
   "outputs": [],
   "source": [
    "# Given the string s, print every letter of the string 's' one at a time by iterating with a for loop over the range of the length of s\n",
    "# You can find the length of a string (or a list) with the function len(s)"
   ]
  },
  {
   "cell_type": "markdown",
   "metadata": {
    "id": "KSfdLeXUQMpQ"
   },
   "source": [
    "### OPTIONAL ADVANCED EXERCISE"
   ]
  },
  {
   "cell_type": "code",
   "execution_count": null,
   "metadata": {
    "id": "38g_ilDgP5dl"
   },
   "outputs": [],
   "source": [
    "# Iterating through dictionaries\n",
    "# create a variable 'd' containing a dictionary of pairs of names and surnames, where the name is the key and the surname is the value\n",
    "d = {\"John\": \"Doe\", \"Jane\": \"Smith\", \"Peter\": \"Jones\"}\n",
    "\n",
    "\n",
    "# Iterate through the dictionary and print all key-value pairs\n"
   ]
  }
 ],
 "metadata": {
  "colab": {
   "collapsed_sections": [
    "5xJKhOr6sulk",
    "f1bnLm5qrS-H",
    "sURdN0BWrwb6",
    "OClFhyM_uDgq",
    "hKS7ZnIeupxm",
    "KSfdLeXUQMpQ"
   ],
   "provenance": []
  },
  "kernelspec": {
   "display_name": "Python 3",
   "language": "python",
   "name": "python3"
  },
  "language_info": {
   "codemirror_mode": {
    "name": "ipython",
    "version": 3
   },
   "file_extension": ".py",
   "mimetype": "text/x-python",
   "name": "python",
   "nbconvert_exporter": "python",
   "pygments_lexer": "ipython3",
   "version": "3.11.10"
  }
 },
 "nbformat": 4,
 "nbformat_minor": 0
}
